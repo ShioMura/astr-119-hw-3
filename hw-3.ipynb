{
 "cells": [
  {
   "cell_type": "code",
   "execution_count": 106,
   "metadata": {},
   "outputs": [],
   "source": [
    "%matplotlib inline\n",
    "import numpy as np\n",
    "import matplotlib.pyplot as plt"
   ]
  },
  {
   "cell_type": "code",
   "execution_count": 124,
   "metadata": {},
   "outputs": [],
   "source": [
    "def function_for_roots(x):\n",
    "    a =  1.01\n",
    "    b = -3.04\n",
    "    c =  2.07\n",
    "    return a*x**2 + b*x + c # get the roots of ax^2 + bx + c"
   ]
  },
  {
   "cell_type": "code",
   "execution_count": 125,
   "metadata": {},
   "outputs": [],
   "source": [
    "def check_initial_values(f, x_min, x_max, tol):\n",
    "    \n",
    "    y_min = f(x_min)\n",
    "    y_max = f(x_max)\n",
    "    \n",
    "    if(y_min*y_max>=0.0):\n",
    "        print(\"No zero crossing found in the range =\", x_min,x_max)\n",
    "        s = \"f(%f) = %f, f(%f) = %f\" % (x_min,y_min,x_max,y_max)\n",
    "        print(s)\n",
    "        return 0\n",
    "    \n",
    "    if(np.fabs(y_min<tol)):\n",
    "        return 1\n",
    "    \n",
    "    if(np.fabs(y_max)<tol):\n",
    "        return 2\n",
    "    \n",
    "    return 3"
   ]
  },
  {
   "cell_type": "code",
   "execution_count": 126,
   "metadata": {},
   "outputs": [],
   "source": [
    "def bisection_root_finding(f, x_min_start, x_max_start, tol):\n",
    "    \n",
    "    x_min = x_min_start\n",
    "    x_max = x_max_start\n",
    "    x_mid = 0.0\n",
    "    \n",
    "    y_min = f(x_min)\n",
    "    y_max = f(x_max)\n",
    "    y_mid = 0.0\n",
    "    \n",
    "    imax = 10000\n",
    "    i = 0\n",
    "    \n",
    "    flag = check_initial_values(f,x_min,x_max,tol)\n",
    "    if(flag==0):\n",
    "        print(\"Error in bisection_root_finding().\")\n",
    "        raise ValueError('Initial values invalid',x_min,x_max)\n",
    "    elif(flag==1):\n",
    "        return x_min\n",
    "    elif(flag==2):\n",
    "        return x_max\n",
    "    flag = 1\n",
    "\n",
    "    while(flag):\n",
    "        x_mid = 0.5*(x_min+x_max)\n",
    "        y_mid = f(x_mid)\n",
    "    \n",
    "        if(np.fabs(y_mid<tol)):\n",
    "            flag = 0\n",
    "        else:\n",
    "        \n",
    "            if(f(x_min)*f(x_mid)>0):\n",
    "                x_min = x_mid\n",
    "            else:\n",
    "                x_max = x_mid\n",
    "            \n",
    "        print(x_min,f(x_min),x_max,f(x_max))\n",
    "        \n",
    "        print(x_min,f(x_min),x_max,f(x_max))\n",
    "        \n",
    "        i += 1\n",
    "        \n",
    "        if(i>=imax):\n",
    "            print(\"Exceeded max number of interation = \",i)\n",
    "            s = \"Min bracket f(%f) = %f\" % (x_min,f(x_min))\n",
    "            print(s)\n",
    "            s = \"Max bracket f(%f) = %f\" % (x_max,f(x_max))\n",
    "            print(s)\n",
    "            s = \"Mid bracket f(%f) = %f\" % (x_mid,f(x_mid))\n",
    "            print(s)\n",
    "            raise StopIteration('Stopping iteration after',i)\n",
    "            \n",
    "    return x_mid"
   ]
  },
  {
   "cell_type": "code",
   "execution_count": 132,
   "metadata": {},
   "outputs": [
    {
     "name": "stdout",
     "output_type": "stream",
     "text": [
      "0.0 2.07\n",
      "1.2 -0.12360000000000015\n",
      "0.6 0.6095999999999999 1.2 -0.12360000000000015\n",
      "0.6 0.6095999999999999 1.2 -0.12360000000000015\n",
      "0.8999999999999999 0.1520999999999999 1.2 -0.12360000000000015\n",
      "0.8999999999999999 0.1520999999999999 1.2 -0.12360000000000015\n",
      "0.8999999999999999 0.1520999999999999 1.2 -0.12360000000000015\n",
      "0.8999999999999999 0.1520999999999999 1.2 -0.12360000000000015\n",
      "Root found with y(1.050000) = -0.123600\n"
     ]
    }
   ],
   "source": [
    "x_min = 0.0\n",
    "x_max = 1.2\n",
    "tolerance = 1.0e-6\n",
    "\n",
    "print(x_min,function_for_roots(x_min))\n",
    "print(x_max,function_for_roots(x_max))\n",
    "\n",
    "x_root = bisection_root_finding(function_for_roots,x_min,x_max,tolerance)\n",
    "y_root = function_for_roots(x_max)\n",
    "\n",
    "s = \"Root found with y(%f) = %f\" % (x_root,y_root)\n",
    "print(s)"
   ]
  },
  {
   "cell_type": "markdown",
   "metadata": {},
   "source": [
    "# get the roots of ax^2 + bx + c\n",
    "\n",
    "# starting guesses is 1.2 and it takes 6 rounds to converage"
   ]
  },
  {
   "cell_type": "code",
   "execution_count": 133,
   "metadata": {},
   "outputs": [
    {
     "data": {
      "text/plain": [
       "<function matplotlib.pyplot.show(*args, **kw)>"
      ]
     },
     "execution_count": 133,
     "metadata": {},
     "output_type": "execute_result"
    },
    {
     "data": {
      "image/png": "[encoded data removed]",
      "text/plain": [
       "<Figure size 432x288 with 1 Axes>"
      ]
     },
     "metadata": {
      "needs_background": "light"
     },
     "output_type": "display_data"
    }
   ],
   "source": [
    "x = np.arange(0,3,0.1)\n",
    "plt.xlim(0,3)\n",
    "plt.ylim(-0.5,2.1)\n",
    "y = 1.01*x**2 - 3.04*x + 2.07\n",
    "plt.plot(x,y)\n",
    "plt.xlabel('x')\n",
    "plt.ylabel('f(x)')\n",
    "\n",
    "plt.axhline(y=0)\n",
    "plt.plot([1.05],[0],marker=\"o\",markersize=3, color=\"red\")\n",
    "plt.plot([1.5],[0],marker=\"o\",markersize=3, color=\"red\")\n",
    "plt.show\n",
    "\n"
   ]
  },
  {
   "cell_type": "code",
   "execution_count": null,
   "metadata": {},
   "outputs": [],
   "source": []
  }
 ],
 "metadata": {
  "kernelspec": {
   "display_name": "Python 3",
   "language": "python",
   "name": "python3"
  },
  "language_info": {
   "codemirror_mode": {
    "name": "ipython",
    "version": 3
   },
   "file_extension": ".py",
   "mimetype": "text/x-python",
   "name": "python",
   "nbconvert_exporter": "python",
   "pygments_lexer": "ipython3",
   "version": "3.6.5"
  }
 },
 "nbformat": 4,
 "nbformat_minor": 2
}
